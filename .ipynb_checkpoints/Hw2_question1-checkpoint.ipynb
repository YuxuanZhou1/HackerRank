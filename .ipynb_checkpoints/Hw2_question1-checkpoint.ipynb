{
 "cells": [
  {
   "cell_type": "code",
   "execution_count": 32,
   "metadata": {},
   "outputs": [],
   "source": [
    "import numpy as np, scipy as sp, matplotlib.pyplot as plt\n",
    "from scipy import stats"
   ]
  },
  {
   "cell_type": "code",
   "execution_count": 33,
   "metadata": {},
   "outputs": [],
   "source": [
    "# Generate the proportion that favor Bush, out of those who had \n",
    "# a preference for either Bush or Dukakis in the pre-debate and\n",
    "# post_debate, as a_1 and a_2\n",
    "a_1 = sp.stats.beta.rvs(295, 308, size=10000)\n",
    "a_2 = sp.stats.beta.rvs(289, 333, size=10000)"
   ]
  },
  {
   "cell_type": "code",
   "execution_count": 34,
   "metadata": {},
   "outputs": [],
   "source": [
    "# after get the posterior probility for both a_1 and a_2\n",
    "# Sampling form these posteriors, we can then arrive at \n",
    "# a posterior distribution for diff\n",
    "diff = a_2 - a_1"
   ]
  },
  {
   "cell_type": "code",
   "execution_count": 35,
   "metadata": {},
   "outputs": [
    {
     "data": {
      "text/plain": [
       "(array([  33.,  249., 1015., 2288., 2966., 2219.,  981.,  213.,   30.,\n",
       "           6.]),\n",
       " array([-0.12279392, -0.10088361, -0.0789733 , -0.05706299, -0.03515268,\n",
       "        -0.01324238,  0.00866793,  0.03057824,  0.05248855,  0.07439886,\n",
       "         0.09630916]),\n",
       " <BarContainer object of 10 artists>)"
      ]
     },
     "execution_count": 35,
     "metadata": {},
     "output_type": "execute_result"
    },
    {
     "data": {
      "image/png": "[encoded data removed]",
      "text/plain": [
       "<Figure size 432x288 with 1 Axes>"
      ]
     },
     "metadata": {
      "needs_background": "light"
     },
     "output_type": "display_data"
    }
   ],
   "source": [
    "# the histgram of the posterior density for a_2 minus a_1\n",
    "plt.hist(diff)"
   ]
  },
  {
   "cell_type": "code",
   "execution_count": 36,
   "metadata": {},
   "outputs": [],
   "source": [
    "# the shift toward Bush when a_2 minus a_1 over than 0\n",
    "# is 19.26%\n",
    "shift = sum(diff>0)/len(diff)"
   ]
  }
 ],
 "metadata": {
  "kernelspec": {
   "display_name": "Python 3",
   "language": "python",
   "name": "python3"
  },
  "language_info": {
   "codemirror_mode": {
    "name": "ipython",
    "version": 3
   },
   "file_extension": ".py",
   "mimetype": "text/x-python",
   "name": "python",
   "nbconvert_exporter": "python",
   "pygments_lexer": "ipython3",
   "version": "3.8.5"
  }
 },
 "nbformat": 4,
 "nbformat_minor": 4
}
